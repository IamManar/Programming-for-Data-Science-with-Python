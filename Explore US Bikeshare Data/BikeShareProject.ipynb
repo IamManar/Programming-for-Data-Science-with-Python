{
 "cells": [
  {
   "cell_type": "markdown",
   "metadata": {},
   "source": [
    "## Bike Share Data \n",
    "<p><img style=\" float: right ;margin: 5px 20px 5px 1px;\" width=\"300\" src=\"https://i.ibb.co/WxyFB3D/14581469364-fa154367d9-k.jpg\"></p>\n",
    "Over the past decade, bicycle-sharing systems have been growing in number and popularity in cities across the world. Bicycle-sharing systems allow users to rent bicycles on a very short-term basis for a price. This allows people to borrow a bike from point A and return it at point B, though they can also return it to the same location if they'd like to just go for a ride. Regardless, each bike can serve several users per day.\n",
    "\n",
    "Thanks to the rise in information technologies, it is easy for a user of the system to access a dock within the system to unlock or return bicycles. These technologies also provide a wealth of data that can be used to explore how these bike-sharing systems are used.\n",
    "\n",
    "In this project, I will use data provided by <a href=\"https://www.motivateco.com/\"> Motivate</a>, a bike share system provider for many major cities in the United States, to uncover bike share usage patterns. I will compare the system usage between three large cities: Chicago, New York City, and Washington, DC"
   ]
  },
  {
   "cell_type": "code",
   "execution_count": 25,
   "metadata": {},
   "outputs": [],
   "source": [
    "# Importing required modules\n",
    "import time\n",
    "import pandas as pd\n",
    "import matplotlib.pyplot as plt\n",
    "# assign the data to a dict\n",
    "CITY_DATA = {'chicago': 'chicago.csv',\n",
    "             'new york city': 'new_york_city.csv',\n",
    "             'washington': 'washington.csv'}\n",
    "# Settings to produce nice plots in a Jupyter notebook\n",
    "plt.style.use('fivethirtyeight')\n",
    "%matplotlib inline"
   ]
  },
  {
   "cell_type": "code",
   "execution_count": 26,
   "metadata": {},
   "outputs": [],
   "source": [
    "def get_filters():\n",
    "    \"\"\"\n",
    "    Asks user to specify a city, month, and day to analyze.\n",
    "    Returns:\n",
    "        (str) city - name of the city to analyze\n",
    "        (str) month - name of the month to filter by, or \"all\" to apply no month filter\n",
    "        (str) day - name of the day of week to filter by, or \"all\" to apply no day filter\n",
    "    \"\"\"\n",
    "    print('Hello! Let\\'s explore some US bikeshare data!')\n",
    "    # get user input for city \n",
    "    Cities = ['all','chicago','new york city','washington']\n",
    "    city = input('Filter by City[all ,chicago, new york city, washington] ').lower()\n",
    "    while city not in Cities:\n",
    "        city = input(\" City hasn't found! please enter a city from[chicago, new york city, washington]  \").lower()\n",
    "\n",
    "    # get user input for month (all, january, february, ... , june)\n",
    "    months = ['all', 'january', 'february', 'march', 'april', 'may', 'june']\n",
    "    month = input('Filter by Month [all , january-june] ').lower()\n",
    "    while month not in months:\n",
    "        month = input(\" month hasn't found! please enter a month from january to june  \").lower()\n",
    "\n",
    "    # get user input for day of week (all, monday, tuesday, ... sunday)\n",
    "    days = ['all', 'monday', 'tuesday', 'wednesday', 'thursday', 'friday', 'saturday','sunday']\n",
    "    day = input('Filter by Day [all , monday-sunday] ').lower()\n",
    "    while day not in days:\n",
    "        day = input(\" day hasn't found! please enter a valid day  \").lower()\n",
    "\n",
    "    print('-' * 40)\n",
    "    return city, month, day\n"
   ]
  },
  {
   "cell_type": "code",
   "execution_count": 27,
   "metadata": {},
   "outputs": [],
   "source": [
    "def load_data(city, month, day):\n",
    "    \"\"\"\n",
    "    Loads data for the specified city and filters by month and day if applicable.\n",
    "\n",
    "    Args:\n",
    "        (str) city - name of the city to analyze\n",
    "        (str) month - name of the month to filter by, or \"all\" to apply no month filter\n",
    "        (str) day - name of the day of week to filter by, or \"all\" to apply no day filter\n",
    "    Returns:\n",
    "        df - Pandas DataFrame containing city data filtered by month and day\n",
    "    \"\"\"\n",
    "    # merging data files into one dataframe and create a column to specify the city\n",
    "    if city == 'all':\n",
    "        chicago = pd.read_csv(CITY_DATA['chicago'])\n",
    "        new_york_city = pd.read_csv(CITY_DATA['new york city'])\n",
    "        washington = pd.read_csv(CITY_DATA['washington'])\n",
    "        chicago['City']= 'Chicago'\n",
    "        new_york_city['City'] = 'New York'\n",
    "        washington['City'] = 'Washington'\n",
    "        all_data = [new_york_city , washington , chicago]\n",
    "        df = pd.concat(all_data)\n",
    "    else :\n",
    "        df = pd.read_csv(CITY_DATA[city])\n",
    "    # convert the Start Time column to datetime\n",
    "    df['Start Time'] = pd.to_datetime(df['Start Time'])\n",
    "\n",
    "    # extract month and day of week from Start Time to create new columns\n",
    "    df['month'] = df['Start Time'].dt.month_name().str[:3]\n",
    "    df['day'] = df['Start Time'].dt.dayofweek\n",
    "\n",
    "\n",
    "    # filter by month if applicable\n",
    "    if month != 'all':\n",
    "        df = df[df['month'] == month]\n",
    "\n",
    "    # filter by day of week if applicable\n",
    "    if day != 'all':\n",
    "        # filter by day of week to create the new dataframe\n",
    "        df = df[df['day'] == day]\n",
    "    print(df.head())\n",
    "    return df\n"
   ]
  },
  {
   "cell_type": "code",
   "execution_count": 28,
   "metadata": {},
   "outputs": [],
   "source": [
    "def time_stats(df):\n",
    "    \"\"\"Displays statistics on the most frequent times of travel.\"\"\"\n",
    "\n",
    "    print('\\nCalculating The Most Frequent Times of Travel...\\n')\n",
    "    start_time = time.time()\n",
    "\n",
    "    # display the most common month\n",
    "    common_month = df['month'].value_counts()\n",
    "    print('Most Common Month:', common_month.idxmax())\n",
    "    # plot the most common month \n",
    "    common_month.plot.bar()\n",
    "    plt.title('Most Common Month: ')\n",
    "    plt.show()\n",
    "\n",
    "    # display the most common day of week\n",
    "    common_day = df['day'].value_counts()\n",
    "    print('Most Common day: ', common_day.idxmax())\n",
    "    # plot the most common day of week\n",
    "    common_day.plot.bar()\n",
    "    plt.title('Most Common Day: ')\n",
    "    plt.show()\n",
    "\n",
    "    # display the most common start hour\n",
    "    df['hour'] = df['Start Time'].dt.hour\n",
    "    common_hour = df['hour'].value_counts()\n",
    "    print('Most Common hour: ', common_hour.idxmax()) \n",
    "    # plot the most common hour\n",
    "    common_hour.plot.bar()\n",
    "    plt.title('Most Common Hour')\n",
    "    plt.show()\n",
    "    return df\n",
    "\n",
    "    print(\"\\nThis took %s seconds.\" % (time.time() - start_time))\n",
    "    print('-' * 40)\n"
   ]
  },
  {
   "cell_type": "code",
   "execution_count": 29,
   "metadata": {},
   "outputs": [],
   "source": [
    "\n",
    "def station_stats(df):\n",
    "    \"\"\"Displays statistics on the most popular stations and trip.\"\"\"\n",
    "\n",
    "    print('\\nCalculating The Most Popular Stations and Trip...\\n')\n",
    "    start_time = time.time()\n",
    "\n",
    "    # display most commonly used start station\n",
    "    common_start_station = df['Start Station'].value_counts().idxmax()\n",
    "    print('Most Commonly Used Start Station: ', common_start_station)\n",
    "    # display most commonly used end station\n",
    "    common_end_station = df['End Station'].value_counts().idxmax()\n",
    "    print('Most Commonly Used End Station: ', common_end_station)\n",
    "\n",
    "    # display most frequent combination of start station and end station trip\n",
    "    most_comb = (df['Start Station'] +'-'+ df['End Station']).mode()\n",
    "    print('Most Frequent Combination of Start Station and End Station trip: ', most_comb)\n",
    "    print(\"\\nThis took %s seconds.\" % (time.time() - start_time))\n",
    "    print('-' * 40)\n"
   ]
  },
  {
   "cell_type": "code",
   "execution_count": 30,
   "metadata": {},
   "outputs": [],
   "source": [
    "def trip_duration_stats(df):\n",
    "    \"\"\"Displays statistics on the total and average trip duration.\"\"\"\n",
    "\n",
    "    print('\\nCalculating Trip Duration...\\n')\n",
    "    start_time = time.time()\n",
    "\n",
    "    # display total travel time\n",
    "    total_travel = df['Trip Duration'].sum()\n",
    "    print('The Total Travel Time: ',total_travel)\n",
    "    # display mean travel time\n",
    "    mean_travel = df['Trip Duration'].mean()\n",
    "    print('The Average Travel Time: ', mean_travel)\n",
    "\n",
    "    print(\"\\nThis took %s seconds.\" % (time.time() - start_time))\n",
    "    print('-' * 40)\n"
   ]
  },
  {
   "cell_type": "code",
   "execution_count": 31,
   "metadata": {},
   "outputs": [],
   "source": [
    "def user_stats(df):\n",
    "    \"\"\"Displays statistics on bikeshare users.\"\"\"\n",
    "\n",
    "    print('\\nCalculating User Stats...\\n')\n",
    "    start_time = time.time()\n",
    "\n",
    "    # Display counts of user types\n",
    "    user_type_count = df['User Type'].value_counts()\n",
    "    print('Count of User Type: ',user_type_count)\n",
    "    # plot counts of user type\n",
    "    user_type_count.plot.bar()\n",
    "    plt.show()\n",
    "\n",
    "    # Display counts of gender\n",
    "    gender_count = df['Gender'].value_counts()\n",
    "    print('Count of Gender: ', gender_count)\n",
    "    # plot counts of gender\n",
    "    gender_count.plot.bar()\n",
    "    plt.show()\n",
    "\n",
    "    # Display earliest, most recent, and most common year of birth\n",
    "    earliest_year = df['Birth Year'].min()\n",
    "    recent_year = df['Birth Year'].max()\n",
    "    common_year = df['Birth Year'].value_counts().idxmax()\n",
    "    print('The Earlist Year: {} The Most Recent Year:  {} most common year of birth:  {} '.format(earliest_year,recent_year,common_year))\n",
    "    print(\"\\nThis took %s seconds.\" % (time.time() - start_time))\n",
    "    print('-' * 40)"
   ]
  },
  {
   "cell_type": "code",
   "execution_count": null,
   "metadata": {},
   "outputs": [
    {
     "name": "stdout",
     "output_type": "stream",
     "text": [
      "Hello! Let's explore some US bikeshare data!\n",
      "Filter by City[all ,chicago, new york city, washington] all\n",
      "Filter by Month [all , january-june] all\n",
      "Filter by Day [all , monday-sunday] all\n",
      "----------------------------------------\n",
      "   Unnamed: 0          Start Time             End Time  Trip Duration  \\\n",
      "0     5688089 2017-06-11 14:55:05  2017-06-11 15:08:21          795.0   \n",
      "1     4096714 2017-05-11 15:30:11  2017-05-11 15:41:43          692.0   \n",
      "2     2173887 2017-03-29 13:26:26  2017-03-29 13:48:31         1325.0   \n",
      "3     3945638 2017-05-08 19:47:18  2017-05-08 19:59:01          703.0   \n",
      "4     6208972 2017-06-21 07:49:16  2017-06-21 07:54:46          329.0   \n",
      "\n",
      "             Start Station             End Station   User Type  Gender  \\\n",
      "0  Suffolk St & Stanton St  W Broadway & Spring St  Subscriber    Male   \n",
      "1  Lexington Ave & E 63 St         1 Ave & E 78 St  Subscriber    Male   \n",
      "2        1 Pl & Clinton St    Henry St & Degraw St  Subscriber    Male   \n",
      "3    Barrow St & Hudson St         W 20 St & 8 Ave  Subscriber  Female   \n",
      "4          1 Ave & E 44 St         E 53 St & 3 Ave  Subscriber    Male   \n",
      "\n",
      "   Birth Year      City month  day  \n",
      "0      1998.0  New York   Jun    6  \n",
      "1      1981.0  New York   May    3  \n",
      "2      1987.0  New York   Mar    2  \n",
      "3      1986.0  New York   May    0  \n",
      "4      1992.0  New York   Jun    2  \n",
      "\n",
      "Calculating The Most Frequent Times of Travel...\n",
      "\n",
      "Most Common Month: Jun\n"
     ]
    },
    {
     "data": {
      "image/png": "[encoded data removed]",
      "text/plain": [
       "<Figure size 432x288 with 1 Axes>"
      ]
     },
     "metadata": {
      "needs_background": "light"
     },
     "output_type": "display_data"
    },
    {
     "name": "stdout",
     "output_type": "stream",
     "text": [
      "Most Common day:  2\n"
     ]
    },
    {
     "data": {
      "image/png": "[encoded data removed]",
      "text/plain": [
       "<Figure size 432x288 with 1 Axes>"
      ]
     },
     "metadata": {
      "needs_background": "light"
     },
     "output_type": "display_data"
    },
    {
     "name": "stdout",
     "output_type": "stream",
     "text": [
      "Most Common hour:  8\n"
     ]
    },
    {
     "data": {
      "image/png": "[encoded data removed]",
      "text/plain": [
       "<Figure size 432x288 with 1 Axes>"
      ]
     },
     "metadata": {
      "needs_background": "light"
     },
     "output_type": "display_data"
    },
    {
     "name": "stdout",
     "output_type": "stream",
     "text": [
      "\n",
      "Calculating The Most Popular Stations and Trip...\n",
      "\n",
      "Most Commonly Used Start Station:  Streeter Dr & Grand Ave\n",
      "Most Commonly Used End Station:  Streeter Dr & Grand Ave\n",
      "Most Frequent Combination of Start Station and End Station trip:  0    Lake Shore Dr & Monroe St-Streeter Dr & Grand Ave\n",
      "dtype: object\n",
      "\n",
      "This took 1.1887805461883545 seconds.\n",
      "----------------------------------------\n",
      "\n",
      "Calculating Trip Duration...\n",
      "\n",
      "The Total Travel Time:  921961020.484\n",
      "The Average Travel Time:  1024.4011338711268\n",
      "\n",
      "This took 0.010443687438964844 seconds.\n",
      "----------------------------------------\n",
      "\n",
      "Calculating User Stats...\n",
      "\n",
      "Count of User Type:  Subscriber    728824\n",
      "Customer      170483\n",
      "Dependent          1\n",
      "Name: User Type, dtype: int64\n"
     ]
    },
    {
     "data": {
      "image/png": "[encoded data removed]",
      "text/plain": [
       "<Figure size 432x288 with 1 Axes>"
      ]
     },
     "metadata": {
      "needs_background": "light"
     },
     "output_type": "display_data"
    },
    {
     "name": "stdout",
     "output_type": "stream",
     "text": [
      "Count of Gender:  Male      385198\n",
      "Female    124541\n",
      "Name: Gender, dtype: int64\n"
     ]
    },
    {
     "data": {
      "image/png": "[encoded data removed]",
      "text/plain": [
       "<Figure size 432x288 with 1 Axes>"
      ]
     },
     "metadata": {
      "needs_background": "light"
     },
     "output_type": "display_data"
    },
    {
     "name": "stdout",
     "output_type": "stream",
     "text": [
      "The Earlist Year: 1885.0 The Most Recent Year:  2016.0 most common year of birth:  1989.0 \n",
      "\n",
      "This took 0.8767004013061523 seconds.\n",
      "----------------------------------------\n"
     ]
    }
   ],
   "source": [
    "def main():\n",
    "    while True:\n",
    "        city, month, day = get_filters()\n",
    "        df = load_data(city, month, day)\n",
    "\n",
    "        time_stats(df)\n",
    "        station_stats(df)\n",
    "        trip_duration_stats(df)\n",
    "        user_stats(df)\n",
    "\n",
    "        restart = input('\\nWould you like to restart? Enter yes or no.\\n')\n",
    "        if restart.lower() != 'yes':\n",
    "            break\n",
    "\n",
    "\n",
    "if __name__ == \"__main__\":\n",
    "    main()"
   ]
  }
 ],
 "metadata": {
  "kernelspec": {
   "display_name": "Python 3",
   "language": "python",
   "name": "python3"
  },
  "language_info": {
   "codemirror_mode": {
    "name": "ipython",
    "version": 3
   },
   "file_extension": ".py",
   "mimetype": "text/x-python",
   "name": "python",
   "nbconvert_exporter": "python",
   "pygments_lexer": "ipython3",
   "version": "3.8.5"
  }
 },
 "nbformat": 4,
 "nbformat_minor": 4
}
