{
 "cells": [
  {
   "cell_type": "markdown",
   "metadata": {},
   "source": [
    "## Bike Share Data \n",
    "<p><img style=\" float: right ;margin: 5px 20px 5px 1px;\" width=\"300\" src=\"https://i.ibb.co/WxyFB3D/14581469364-fa154367d9-k.jpg\"></p>\n",
    "Over the past decade, bicycle-sharing systems have been growing in number and popularity in cities across the world. Bicycle-sharing systems allow users to rent bicycles on a very short-term basis for a price. This allows people to borrow a bike from point A and return it at point B, though they can also return it to the same location if they'd like to just go for a ride. Regardless, each bike can serve several users per day.\n",
    "\n",
    "Thanks to the rise in information technologies, it is easy for a user of the system to access a dock within the system to unlock or return bicycles. These technologies also provide a wealth of data that can be used to explore how these bike-sharing systems are used.\n",
    "\n",
    "In this project, I will use data provided by <a href=\"https://www.motivateco.com/\"> Motivate</a>, a bike share system provider for many major cities in the United States, to uncover bike share usage patterns. I will compare the system usage between three large cities: Chicago, New York City, and Washington, DC"
   ]
  },
  {
   "cell_type": "code",
   "execution_count": 1,
   "metadata": {},
   "outputs": [],
   "source": [
    "# Importing required modules\n",
    "import time\n",
    "import pandas as pd\n",
    "import matplotlib.pyplot as plt\n",
    "# assign the data to a dict\n",
    "CITY_DATA = {'chicago': 'chicago.csv',\n",
    "             'new york city': 'new_york_city.csv',\n",
    "             'washington': 'washington.csv'}\n",
    "# Settings to produce nice plots in a Jupyter notebook\n",
    "plt.style.use('fivethirtyeight')\n",
    "%matplotlib inline"
   ]
  },
  {
   "cell_type": "code",
   "execution_count": 2,
   "metadata": {},
   "outputs": [],
   "source": [
    "def get_filters():\n",
    "    \"\"\"\n",
    "    Asks user to specify a city, month, and day to analyze.\n",
    "    Returns:\n",
    "        (str) city - name of the city to analyze\n",
    "        (str) month - name of the month to filter by, or \"all\" to apply no month filter\n",
    "        (str) day - name of the day of week to filter by, or \"all\" to apply no day filter\n",
    "    \"\"\"\n",
    "    print('Hello! Let\\'s explore some US bikeshare data!')\n",
    "    # get user input for city \n",
    "    Cities = ['all','chicago','new york city','washington']\n",
    "    city = input('Filter by City[all ,chicago, new york city, washington] ').lower()\n",
    "    while city not in Cities:\n",
    "        city = input(\" City hasn't found! please enter a city from[chicago, new york city, washington]  \").lower()\n",
    "\n",
    "    # get user input for month (all, january, february, ... , june)\n",
    "    months = ['all', 'january', 'february', 'march', 'april', 'may', 'june']\n",
    "    month = input('Filter by Month [all , january-june] ').lower()\n",
    "    while month not in months:\n",
    "        month = input(\" month hasn't found! please enter a month from january to june  \").lower()\n",
    "\n",
    "    # get user input for day of week (all, monday, tuesday, ... sunday)\n",
    "    days = ['all', 'monday', 'tuesday', 'wednesday', 'thursday', 'friday', 'saturday','sunday']\n",
    "    day = input('Filter by Day [all , monday-sunday] ').lower()\n",
    "    while day not in days:\n",
    "        day = input(\" day hasn't found! please enter a valid day  \").lower()\n",
    "\n",
    "    print('-' * 40)\n",
    "    return city, month, day\n"
   ]
  },
  {
   "cell_type": "code",
   "execution_count": 3,
   "metadata": {},
   "outputs": [],
   "source": [
    "def load_data(city, month, day):\n",
    "    \"\"\"\n",
    "    Loads data for the specified city and filters by month and day if applicable.\n",
    "\n",
    "    Args:\n",
    "        (str) city - name of the city to analyze\n",
    "        (str) month - name of the month to filter by, or \"all\" to apply no month filter\n",
    "        (str) day - name of the day of week to filter by, or \"all\" to apply no day filter\n",
    "    Returns:\n",
    "        df - Pandas DataFrame containing city data filtered by month and day\n",
    "    \"\"\"\n",
    "    # merging data files into one dataframe and create a column to specify the city\n",
    "    if city == 'all':\n",
    "        chicago = pd.read_csv(CITY_DATA['chicago'])\n",
    "        new_york_city = pd.read_csv(CITY_DATA['new york city'])\n",
    "        washington = pd.read_csv(CITY_DATA['washington'])\n",
    "        chicago['City']= 'Chicago'\n",
    "        new_york_city['City'] = 'New York'\n",
    "        washington['City'] = 'Washington'\n",
    "        all_data = [new_york_city , washington , chicago]\n",
    "        df = pd.concat(all_data)\n",
    "    else :\n",
    "        df = pd.read_csv(CITY_DATA[city])\n",
    "    # convert the Start Time column to datetime\n",
    "    df['Start Time'] = pd.to_datetime(df['Start Time'])\n",
    "\n",
    "    # extract month and day of week from Start Time to create new columns\n",
    "    df['month'] = df['Start Time'].dt.month\n",
    "    df['day'] = df['Start Time'].dt.dayofweek\n",
    "\n",
    "\n",
    "    # filter by month if applicable\n",
    "    if month != 'all':\n",
    "        months = ['january', 'february', 'march', 'april', 'may', 'june']\n",
    "        month = months.index(month) + 1\n",
    "        df = df[df['month'] == month]\n",
    "\n",
    "    # filter by day of week if applicable\n",
    "    if day != 'all':\n",
    "        # filter by day of week to create the new dataframe\n",
    "        days = ['monday', 'tuesday', 'wednesday', 'thursday', 'friday', 'saturday','sunday']\n",
    "        day = days.index(day) + 1\n",
    "        df = df[df['day'] == day]\n",
    "    print(df.head())\n",
    "    return df\n"
   ]
  },
  {
   "cell_type": "code",
   "execution_count": 4,
   "metadata": {},
   "outputs": [],
   "source": [
    "def time_stats(df):\n",
    "    \"\"\"Displays statistics on the most frequent times of travel.\"\"\"\n",
    "\n",
    "    print('\\nCalculating The Most Frequent Times of Travel...\\n')\n",
    "    start_time = time.time()\n",
    "\n",
    "    # display the most common month\n",
    "    common_month = df['month'].value_counts()\n",
    "    print('Most Common Month:', common_month.idxmax())\n",
    "    # plot the most common month \n",
    "    common_month.plot.bar()\n",
    "    plt.title('Most Common Month: ')\n",
    "    plt.show()\n",
    "\n",
    "    # display the most common day of week\n",
    "    common_day = df['day'].value_counts()\n",
    "    print('Most Common day: ', common_day.idxmax())\n",
    "    # plot the most common day of week\n",
    "    common_day.plot.bar()\n",
    "    plt.title('Most Common Day: ')\n",
    "    plt.show()\n",
    "\n",
    "    # display the most common start hour\n",
    "    df['hour'] = df['Start Time'].dt.hour\n",
    "    common_hour = df['hour'].value_counts()\n",
    "    print('Most Common hour: ', common_hour.idxmax()) \n",
    "    # plot the most common hour\n",
    "    common_hour.plot.bar()\n",
    "    plt.title('Most Common Hour')\n",
    "    plt.show()\n",
    "    return df\n",
    "\n",
    "    print(\"\\nThis took %s seconds.\" % (time.time() - start_time))\n",
    "    print('-' * 40)\n"
   ]
  },
  {
   "cell_type": "code",
   "execution_count": 5,
   "metadata": {},
   "outputs": [],
   "source": [
    "\n",
    "def station_stats(df):\n",
    "    \"\"\"Displays statistics on the most popular stations and trip.\"\"\"\n",
    "\n",
    "    print('\\nCalculating The Most Popular Stations and Trip...\\n')\n",
    "    start_time = time.time()\n",
    "\n",
    "    # display most commonly used start station\n",
    "    common_start_station = df['Start Station'].value_counts().idxmax()\n",
    "    print('Most Commonly Used Start Station: ', common_start_station)\n",
    "    # display most commonly used end station\n",
    "    common_end_station = df['End Station'].value_counts().idxmax()\n",
    "    print('Most Commonly Used End Station: ', common_end_station)\n",
    "\n",
    "    # display most frequent combination of start station and end station trip\n",
    "    most_comb = (df['Start Station'] +'-'+ df['End Station']).mode()\n",
    "    print('Most Frequent Combination of Start Station and End Station trip: ', most_comb)\n",
    "    print(\"\\nThis took %s seconds.\" % (time.time() - start_time))\n",
    "    print('-' * 40)\n"
   ]
  },
  {
   "cell_type": "code",
   "execution_count": 6,
   "metadata": {},
   "outputs": [],
   "source": [
    "def trip_duration_stats(df):\n",
    "    \"\"\"Displays statistics on the total and average trip duration.\"\"\"\n",
    "\n",
    "    print('\\nCalculating Trip Duration...\\n')\n",
    "    start_time = time.time()\n",
    "\n",
    "    # display total travel time\n",
    "    total_travel = df['Trip Duration'].sum()\n",
    "    print('The Total Travel Time: ',total_travel)\n",
    "    # display mean travel time\n",
    "    mean_travel = df['Trip Duration'].mean()\n",
    "    print('The Average Travel Time: ', mean_travel)\n",
    "\n",
    "    print(\"\\nThis took %s seconds.\" % (time.time() - start_time))\n",
    "    print('-' * 40)\n"
   ]
  },
  {
   "cell_type": "code",
   "execution_count": 7,
   "metadata": {},
   "outputs": [],
   "source": [
    "def user_stats(df):\n",
    "    \"\"\"Displays statistics on bikeshare users.\"\"\"\n",
    "\n",
    "    print('\\nCalculating User Stats...\\n')\n",
    "    start_time = time.time()\n",
    "\n",
    "    # Display counts of user types\n",
    "    if 'Gender' in df.columns:\n",
    "        gender_count = df['Gender'].value_counts()\n",
    "        print('Count of Gender: ', gender_count)\n",
    "    # plot counts of gender\n",
    "        gender_count.plot.bar()\n",
    "        plt.show()\n",
    "    else : \n",
    "            print('Gender Column is not availble')\n",
    "\n",
    "\n",
    "    # Display earliest, most recent, and most common year of birth\n",
    "    if 'Birth Year' in df.columns:\n",
    "        earliest_year = df['Birth Year'].min()\n",
    "        recent_year = df['Birth Year'].max()\n",
    "        common_year = df['Birth Year'].value_counts().idxmax()\n",
    "        print('The Earlist Year: {} The Most Recent Year:  {} most common year of birth:  {} '.format(earliest_year,recent_year,common_year))\n",
    "    else: \n",
    "        print('Birth Year Column is not availble')\n",
    "    print(\"\\nThis took %s seconds.\" % (time.time() - start_time))\n",
    "    print('-' * 40)"
   ]
  },
  {
   "cell_type": "code",
   "execution_count": null,
   "metadata": {},
   "outputs": [
    {
     "name": "stdout",
     "output_type": "stream",
     "text": [
      "Hello! Let's explore some US bikeshare data!\n",
      "Filter by City[all ,chicago, new york city, washington] washington\n",
      "Filter by Month [all , january-june] june\n",
      "Filter by Day [all , monday-sunday] monday\n",
      "----------------------------------------\n",
      "     Unnamed: 0          Start Time             End Time  Trip Duration  \\\n",
      "7       1601832 2017-06-20 05:54:42  2017-06-20 06:05:18        636.218   \n",
      "55      1521583 2017-06-13 09:20:29  2017-06-13 09:25:55        326.177   \n",
      "57      1512084 2017-06-13 02:06:02  2017-06-13 02:15:13        550.647   \n",
      "133     1602523 2017-06-20 06:15:45  2017-06-20 06:45:44       1798.586   \n",
      "154     1516981 2017-06-13 06:49:23  2017-06-13 07:00:15        651.980   \n",
      "\n",
      "                                        Start Station  \\\n",
      "7                                       1st & D St SE   \n",
      "55                               Madison & N Henry St   \n",
      "57                          Connecticut Ave & R St NW   \n",
      "133  Ohio Dr & West Basin Dr SW / MLK & FDR Memorials   \n",
      "154            37th & O St NW / Georgetown University   \n",
      "\n",
      "                        End Station   User Type  month  day  \n",
      "7     Potomac & Pennsylvania Ave SE  Subscriber      6    1  \n",
      "55         Saint Asaph & Madison St  Subscriber      6    1  \n",
      "57      Adams Mill & Columbia Rd NW  Subscriber      6    1  \n",
      "133  Georgetown Harbor / 30th St NW    Customer      6    1  \n",
      "154            Lynn & 19th St North  Subscriber      6    1  \n",
      "\n",
      "Calculating The Most Frequent Times of Travel...\n",
      "\n",
      "Most Common Month: 6\n"
     ]
    },
    {
     "data": {
      "image/png": "[encoded data removed]",
      "text/plain": [
       "<Figure size 432x288 with 1 Axes>"
      ]
     },
     "metadata": {
      "needs_background": "light"
     },
     "output_type": "display_data"
    },
    {
     "name": "stdout",
     "output_type": "stream",
     "text": [
      "Most Common day:  1\n"
     ]
    },
    {
     "data": {
      "image/png": "[encoded data removed]",
      "text/plain": [
       "<Figure size 432x288 with 1 Axes>"
      ]
     },
     "metadata": {
      "needs_background": "light"
     },
     "output_type": "display_data"
    },
    {
     "name": "stdout",
     "output_type": "stream",
     "text": [
      "Most Common hour:  8\n"
     ]
    },
    {
     "data": {
      "image/png": "[encoded data removed]",
      "text/plain": [
       "<Figure size 432x288 with 1 Axes>"
      ]
     },
     "metadata": {
      "needs_background": "light"
     },
     "output_type": "display_data"
    },
    {
     "name": "stdout",
     "output_type": "stream",
     "text": [
      "\n",
      "Calculating The Most Popular Stations and Trip...\n",
      "\n",
      "Most Commonly Used Start Station:  Columbus Circle / Union Station\n",
      "Most Commonly Used End Station:  Columbus Circle / Union Station\n",
      "Most Frequent Combination of Start Station and End Station trip:  0    Jefferson Dr & 14th St SW-Lincoln Memorial\n",
      "dtype: object\n",
      "\n",
      "This took 0.011969327926635742 seconds.\n",
      "----------------------------------------\n",
      "\n",
      "Calculating Trip Duration...\n",
      "\n",
      "The Total Travel Time:  11635935.440000001\n",
      "The Average Travel Time:  1224.1909984218837\n",
      "\n",
      "This took 0.0009968280792236328 seconds.\n",
      "----------------------------------------\n",
      "\n",
      "Calculating User Stats...\n",
      "\n",
      "Gender Column is not availble\n",
      "Birth Year Column is not availble\n",
      "\n",
      "This took 0.0 seconds.\n",
      "----------------------------------------\n"
     ]
    }
   ],
   "source": [
    "def main():\n",
    "    while True:\n",
    "        city, month, day = get_filters()\n",
    "        df = load_data(city, month, day)\n",
    "\n",
    "        time_stats(df)\n",
    "        station_stats(df)\n",
    "        trip_duration_stats(df)\n",
    "        user_stats(df)\n",
    "\n",
    "        restart = input('\\nWould you like to restart? Enter yes or no.\\n')\n",
    "        if restart.lower() != 'yes':\n",
    "            break\n",
    "\n",
    "\n",
    "if __name__ == \"__main__\":\n",
    "    main()"
   ]
  }
 ],
 "metadata": {
  "kernelspec": {
   "display_name": "Python 3",
   "language": "python",
   "name": "python3"
  },
  "language_info": {
   "codemirror_mode": {
    "name": "ipython",
    "version": 3
   },
   "file_extension": ".py",
   "mimetype": "text/x-python",
   "name": "python",
   "nbconvert_exporter": "python",
   "pygments_lexer": "ipython3",
   "version": "3.8.5"
  }
 },
 "nbformat": 4,
 "nbformat_minor": 4
}
